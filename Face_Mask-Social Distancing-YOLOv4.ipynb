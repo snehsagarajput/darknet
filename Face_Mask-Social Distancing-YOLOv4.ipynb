{
  "nbformat": 4,
  "nbformat_minor": 0,
  "metadata": {
    "colab": {
      "name": "My_YOLOv4.ipynb",
      "provenance": [],
      "private_outputs": true,
      "collapsed_sections": [],
      "include_colab_link": true
    },
    "kernelspec": {
      "name": "python3",
      "display_name": "Python 3"
    },
    "accelerator": "GPU"
  },
  "cells": [
    {
      "cell_type": "markdown",
      "metadata": {
        "id": "view-in-github",
        "colab_type": "text"
      },
      "source": [
        "<a href=\"https://colab.research.google.com/github/snehsagarajput/darknet/blob/master/Face_Mask-Social%20Distancing-YOLOv4.ipynb\" target=\"_parent\"><img src=\"https://colab.research.google.com/assets/colab-badge.svg\" alt=\"Open In Colab\"/></a>"
      ]
    },
    {
      "cell_type": "code",
      "metadata": {
        "id": "ZcR0bTeRVzEi"
      },
      "source": [
        "# Check if NVIDIA GPU is enabled\n",
        "#hope you get Nvida Tesla P100 (or, Tesla T-4) (best performance for colab)\n",
        "!nvidia-smi"
      ],
      "execution_count": null,
      "outputs": []
    },
    {
      "cell_type": "code",
      "metadata": {
        "id": "Hk0MJL2FV3Ja"
      },
      "source": [
        "#Mounting Drive(use gmail-id having dataset) \n",
        "from google.colab import drive\n",
        "drive.mount('/content/gdrive')\n",
        "!ln -s /content/gdrive/My\\ Drive/ /mydrive #important to set this hard link to avoid problem due to \"My Drive\" having space in the directory path\n",
        "!ls /mydrive #content of mounted drive "
      ],
      "execution_count": null,
      "outputs": []
    },
    {
      "cell_type": "code",
      "metadata": {
        "id": "h9mFq9AZV-JI"
      },
      "source": [
        "#############################################################################################################\n",
        "##    cloning my github with forked and updated darknet repository(u can fork this for your purpose :))    ##\n",
        "##    i have added:-                                                                                       ##\n",
        "##       1. config file (for training and testing:::change according to your usage)                        ##\n",
        "##       2. obj.names file (class names for classification)                                                ##\n",
        "##       3. obj.data file (having details of directory)                                                    ##\n",
        "#############################################################################################################\n",
        "\n",
        "!git clone https://github.com/snehsagarajput/darknet"
      ],
      "execution_count": null,
      "outputs": []
    },
    {
      "cell_type": "code",
      "metadata": {
        "id": "ncghCBzkWcr6"
      },
      "source": [
        "#change makefile to have GPU and OPENCV enabled (will take time)\n",
        "%cd darknet\n",
        "!sed -i 's/OPENCV=0/OPENCV=1/' Makefile\n",
        "!sed -i 's/GPU=0/GPU=1/' Makefile\n",
        "!sed -i 's/CUDNN=0/CUDNN=1/' Makefile\n",
        "!make"
      ],
      "execution_count": null,
      "outputs": []
    },
    {
      "cell_type": "code",
      "metadata": {
        "id": "apwRcQiNWhGF"
      },
      "source": [
        "# Create folder on google drive so that we can save weights there (ignore if already exists)\n",
        "!mkdir \"/mydrive/YOLOv4\""
      ],
      "execution_count": null,
      "outputs": []
    },
    {
      "cell_type": "code",
      "metadata": {
        "id": "ndxcO1RmWlwg"
      },
      "source": [
        "# Download weights darknet model 137 in GDRIVE ###ignore if already downloaded (you don't need to explicitly download this cell will do the work)\n",
        "weights_dir=\"/content/gdrive/My Drive/YOLOv4/yolov4.conv.137\" #weights location\n",
        "import os.path\n",
        "from os import path\n",
        "if not path.exists(weights_dir):\n",
        "  !wget https://github.com/AlexeyAB/darknet/releases/download/darknet_yolo_v3_optimal/yolov4.conv.137 -P \"/content/gdrive/My Drive/YOLOv4\"\n",
        "else:\n",
        "  print(\"File already exists!!!!!!\")"
      ],
      "execution_count": null,
      "outputs": []
    },
    {
      "cell_type": "code",
      "metadata": {
        "id": "ocWwStXYgZIN"
      },
      "source": [
        "#copy training images(dataset) and labels{both in one .zip file} from GDRIVE to darknet/data/obj folder\n",
        "import os\n",
        "gdrive_image_source_path=\"/content/gdrive/My Drive/YOLOv4/data/\" #(address of folder containing image and annotations)\n",
        "\n",
        "%cd /content/darknet/data/\n",
        "!mkdir obj  #create obj folder as it does not already exists in data\n",
        "!unzip \"/content/gdrive/My Drive/YOLOv4/data/train.zip\" -d \"/content/darknet/data/obj/\""
      ],
      "execution_count": null,
      "outputs": []
    },
    {
      "cell_type": "code",
      "metadata": {
        "id": "AeLA69XcrsaU"
      },
      "source": [
        "import os\n",
        "files=os.listdir(\"/content/darknet/data/obj\")\n",
        "print(\"No of images for training : \",len(files)//2)"
      ],
      "execution_count": null,
      "outputs": []
    },
    {
      "cell_type": "code",
      "metadata": {
        "id": "TGBF_9Fuy1Jf"
      },
      "source": [
        "#copy validation images(dataset) and labels{both in one .zip file} from GDRIVE to darknet/data/obj folder\n",
        "import os\n",
        "gdrive_image_source_path=\"/content/gdrive/My Drive/YOLOv4/data/\" #(address of folder containing image and annotations as .zip file)\n",
        "\n",
        "%cd /content/darknet/data/\n",
        "!unzip \"/content/gdrive/My Drive/YOLOv4/data/valid.zip\" -d \"/content/darknet/data/obj/\""
      ],
      "execution_count": null,
      "outputs": []
    },
    {
      "cell_type": "code",
      "metadata": {
        "id": "JAZq3yh30jw7"
      },
      "source": [
        "#copy train.txt and valid.txt files having image and annotations location to 'data' directory in darknet\n",
        "!cp \"/content/gdrive/My Drive/YOLOv4/data/train.txt\" \"/content/darknet/data\"\n",
        "!cp \"/content/gdrive/My Drive/YOLOv4/data/valid.txt\" \"/content/darknet/data\""
      ],
      "execution_count": null,
      "outputs": []
    },
    {
      "cell_type": "markdown",
      "metadata": {
        "id": "xn7TpB-UMBWf"
      },
      "source": [
        "#Define Helper Functions\n",
        "\n",
        "These three functions are helper functions that will allow you to show the image in your Colab Notebook after running your detections, as well as upload and download images to and from your Cloud VM."
      ]
    },
    {
      "cell_type": "code",
      "metadata": {
        "id": "W1K_PBnOrfqW"
      },
      "source": [
        "# define helper functions\n",
        "def imShow(path):\n",
        "  import cv2\n",
        "  import matplotlib.pyplot as plt\n",
        "  %matplotlib inline\n",
        "\n",
        "  image = cv2.imread(path)\n",
        "  height, width = image.shape[:2]\n",
        "  resized_image = cv2.resize(image,(3*width, 3*height), interpolation = cv2.INTER_CUBIC)\n",
        "\n",
        "  fig = plt.gcf()\n",
        "  fig.set_size_inches(18, 10)\n",
        "  plt.axis(\"off\")\n",
        "  plt.imshow(cv2.cvtColor(resized_image, cv2.COLOR_BGR2RGB))\n",
        "  plt.show()\n",
        "\n",
        "# use this to upload files\n",
        "def upload():\n",
        "  from google.colab import files\n",
        "  uploaded = files.upload() \n",
        "  for name, data in uploaded.items():\n",
        "    with open(name, 'wb') as f:\n",
        "      f.write(data)\n",
        "      print ('saved file', name)\n",
        "\n",
        "# use this to download a file  \n",
        "def download(path):\n",
        "  from google.colab import files\n",
        "  files.download(path)"
      ],
      "execution_count": null,
      "outputs": []
    },
    {
      "cell_type": "markdown",
      "metadata": {
        "id": "zIu8i2yeWweb"
      },
      "source": [
        "# Training"
      ]
    },
    {
      "cell_type": "code",
      "metadata": {
        "id": "jvkiMHIrlvnT"
      },
      "source": [
        "# >6000 iterations\n",
        "!rm \"/content/darknet/cfg/yolov4_training.cfg\"\n",
        "!cp \"/content/gdrive/My Drive/YOLOv4/data/yolov4_training.cfg\" \"/content/darknet/cfg\""
      ],
      "execution_count": null,
      "outputs": []
    },
    {
      "cell_type": "code",
      "metadata": {
        "id": "5PNtSqrqWrmo"
      },
      "source": [
        "# Start the training (set up weight)\n",
        "%cd /content/darknet\n",
        "!./darknet detector train data/obj.data cfg/yolov4_training.cfg \"/content/gdrive/My Drive/YOLOv4/yolov4_training_last.weights\" -dont_show -map"
      ],
      "execution_count": null,
      "outputs": []
    },
    {
      "cell_type": "code",
      "metadata": {
        "id": "gbDEgO-VVT9J"
      },
      "source": [
        "#testing on video file\n",
        "%cd /content/darknet\n",
        "!./darknet detector demo data/obj.data cfg/yolov4_testing.cfg \"/content/gdrive/My Drive/YOLOv4/yolov4_training_best.weights\" \"/content/gdrive/My Drive/test_street_main.mp4\" -out_filename \"/content/gdrive/My Drive/main_street_20000.mp4\" -dont_show"
      ],
      "execution_count": null,
      "outputs": []
    },
    {
      "cell_type": "code",
      "metadata": {
        "id": "2AqU-JEyMVsZ"
      },
      "source": [
        "#for testing on single image\n",
        "%cd /content/darknet\n",
        "!./darknet detector test data/obj.data cfg/yolov4_testing.cfg \"/content/gdrive/My Drive/YOLOv4/yolov4_training_20000.weights\" \"/content/gdrive/My Drive/2_class only_YOLOv4/test/222.jpg\" -dont_show -map\n",
        "imShow('predictions.jpg')"
      ],
      "execution_count": null,
      "outputs": []
    },
    {
      "cell_type": "code",
      "metadata": {
        "id": "ilVaqrh2tIkh"
      },
      "source": [
        "#metrics calculation on weights\n",
        "%cd /content/darknet\n",
        "!./darknet detector map data/obj.data cfg/yolov4_testing.cfg \"/content/gdrive/My Drive/YOLOv4/yolov4_training_last.weights\""
      ],
      "execution_count": null,
      "outputs": []
    },
    {
      "cell_type": "code",
      "metadata": {
        "id": "dVoMbju6t-aB"
      },
      "source": [
        ""
      ],
      "execution_count": null,
      "outputs": []
    }
  ]
}